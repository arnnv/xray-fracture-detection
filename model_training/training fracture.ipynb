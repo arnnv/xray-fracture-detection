{
 "cells": [
  {
   "cell_type": "code",
   "execution_count": 6,
   "metadata": {},
   "outputs": [],
   "source": [
    "import numpy as np\n",
    "import pandas as pd\n",
    "import os\n",
    "import matplotlib.pyplot as plt\n",
    "from sklearn.model_selection import train_test_split\n",
    "import tensorflow as tf\n",
    "from tensorflow.keras.optimizers import Adam"
   ]
  },
  {
   "cell_type": "code",
   "execution_count": 7,
   "metadata": {},
   "outputs": [],
   "source": [
    "# Define the function to load the dataset\n",
    "def load_path(path, part):\n",
    "    dataset = []\n",
    "    for folder in os.listdir(path):\n",
    "        folder_path = os.path.join(path, folder)\n",
    "        if os.path.isdir(folder_path):\n",
    "            for body in os.listdir(folder_path):\n",
    "                if body == part:\n",
    "                    body_part = body\n",
    "                    body_path = os.path.join(folder_path, body)\n",
    "                    for patient_id in os.listdir(body_path):\n",
    "                        patient_path = os.path.join(body_path, patient_id)\n",
    "                        for lab in os.listdir(patient_path):\n",
    "                            label = 'fractured' if lab.split('_')[-1] == 'positive' else 'normal'\n",
    "                            lab_path = os.path.join(patient_path, lab)\n",
    "                            for img in os.listdir(lab_path):\n",
    "                                img_path = os.path.join(lab_path, img)\n",
    "                                dataset.append({\n",
    "                                    'body_part': body_part,\n",
    "                                    'patient_id': patient_id,\n",
    "                                    'label': label,\n",
    "                                    'image_path': img_path\n",
    "                                })\n",
    "    return dataset\n"
   ]
  },
  {
   "cell_type": "code",
   "execution_count": 8,
   "metadata": {},
   "outputs": [],
   "source": [
    "# Define the function to train the model for a specific body part\n",
    "def trainPart(part):\n",
    "    image_dir = './Dataset/'\n",
    "    data = load_path(image_dir, part)\n",
    "    labels = []\n",
    "    filepaths = []\n",
    "\n",
    "    for row in data:\n",
    "        labels.append(row['label'])\n",
    "        filepaths.append(row['image_path'])\n",
    "\n",
    "    filepaths = pd.Series(filepaths, name='Filepath').astype(str)\n",
    "    labels = pd.Series(labels, name='Label')\n",
    "\n",
    "    images = pd.concat([filepaths, labels], axis=1)\n",
    "\n",
    "    train_df, test_df = train_test_split(images, train_size=0.9, shuffle=True, random_state=1)\n",
    "\n",
    "    train_generator = tf.keras.preprocessing.image.ImageDataGenerator(\n",
    "        horizontal_flip=True,\n",
    "        preprocessing_function=tf.keras.applications.resnet50.preprocess_input,\n",
    "        validation_split=0.2\n",
    "    )\n",
    "\n",
    "    test_generator = tf.keras.preprocessing.image.ImageDataGenerator(\n",
    "        preprocessing_function=tf.keras.applications.resnet50.preprocess_input\n",
    "    )\n",
    "\n",
    "    train_images = train_generator.flow_from_dataframe(\n",
    "        dataframe=train_df,\n",
    "        x_col='Filepath',\n",
    "        y_col='Label',\n",
    "        target_size=(224, 224),\n",
    "        color_mode='rgb',\n",
    "        class_mode='categorical',\n",
    "        batch_size=64,\n",
    "        shuffle=True,\n",
    "        seed=42,\n",
    "        subset='training'\n",
    "    )\n",
    "\n",
    "    val_images = train_generator.flow_from_dataframe(\n",
    "        dataframe=train_df,\n",
    "        x_col='Filepath',\n",
    "        y_col='Label',\n",
    "        target_size=(224, 224),\n",
    "        color_mode='rgb',\n",
    "        class_mode='categorical',\n",
    "        batch_size=64,\n",
    "        shuffle=True,\n",
    "        seed=42,\n",
    "        subset='validation'\n",
    "    )\n",
    "\n",
    "    test_images = test_generator.flow_from_dataframe(\n",
    "        dataframe=test_df,\n",
    "        x_col='Filepath',\n",
    "        y_col='Label',\n",
    "        target_size=(224, 224),\n",
    "        color_mode='rgb',\n",
    "        class_mode='categorical',\n",
    "        batch_size=32,\n",
    "        shuffle=False\n",
    "    )\n",
    "\n",
    "    pretrained_model = tf.keras.applications.ResNet50(\n",
    "        input_shape=(224, 224, 3),\n",
    "        include_top=False,\n",
    "        weights='imagenet',\n",
    "        pooling='avg'\n",
    "    )\n",
    "\n",
    "    pretrained_model.trainable = False\n",
    "\n",
    "    inputs = pretrained_model.input\n",
    "    x = tf.keras.layers.Dense(128, activation='relu')(pretrained_model.output)\n",
    "    x = tf.keras.layers.Dense(50, activation='relu')(x)\n",
    "    outputs = tf.keras.layers.Dense(2, activation='softmax')(x)\n",
    "    model = tf.keras.Model(inputs, outputs)\n",
    "\n",
    "    print(\"-------Training \" + part + \"-------\")\n",
    "\n",
    "    model.compile(optimizer=Adam(learning_rate=0.0001), loss='categorical_crossentropy', metrics=['accuracy'])\n",
    "\n",
    "    callbacks = tf.keras.callbacks.EarlyStopping(monitor='val_loss', patience=3, restore_best_weights=True)\n",
    "    history = model.fit(train_images, validation_data=val_images, epochs=25, callbacks=[callbacks])\n",
    "\n",
    "    os.makedirs(f\"./weights\", exist_ok=True)\n",
    "    model.save(f\"./weights/ResNet50_{part}_frac.h5\")\n",
    "    results = model.evaluate(test_images, verbose=0)\n",
    "    print(part + \" Results:\")\n",
    "    print(results)\n",
    "    print(f\"Test Accuracy: {np.round(results[1] * 100, 2)}%\")\n",
    "\n",
    "    os.makedirs(f\"./plots/FractureDetection/{part}\", exist_ok=True)\n",
    "\n",
    "    plt.plot(history.history['accuracy'])\n",
    "    plt.plot(history.history['val_accuracy'])\n",
    "    plt.title('Model Accuracy')\n",
    "    plt.ylabel('Accuracy')\n",
    "    plt.xlabel('Epoch')\n",
    "    plt.legend(['Train', 'Validation'], loc='upper left')\n",
    "    plt.savefig(f\"./plots/FractureDetection/{part}/_Accuracy.jpeg\")\n",
    "    plt.clf()\n",
    "\n",
    "    plt.plot(history.history['loss'])\n",
    "    plt.plot(history.history['val_loss'])\n",
    "    plt.title('Model Loss')\n",
    "    plt.ylabel('Loss')\n",
    "    plt.xlabel('Epoch')\n",
    "    plt.legend(['Train', 'Validation'], loc='upper left')\n",
    "    plt.savefig(f\"./plots/FractureDetection/{part}/_Loss.jpeg\")\n",
    "    plt.clf()"
   ]
  },
  {
   "cell_type": "code",
   "execution_count": 9,
   "metadata": {},
   "outputs": [
    {
     "name": "stdout",
     "output_type": "stream",
     "text": [
      "Found 3885 validated image filenames belonging to 2 classes.\n",
      "Found 971 validated image filenames belonging to 2 classes.\n",
      "Found 540 validated image filenames belonging to 2 classes.\n",
      "-------Training Elbow-------\n"
     ]
    },
    {
     "name": "stderr",
     "output_type": "stream",
     "text": [
      "/home/arnav/anaconda3/envs/tf/lib/python3.12/site-packages/keras/src/trainers/data_adapters/py_dataset_adapter.py:121: UserWarning: Your `PyDataset` class should call `super().__init__(**kwargs)` in its constructor. `**kwargs` can include `workers`, `use_multiprocessing`, `max_queue_size`. Do not pass these arguments to `fit()`, as they will be ignored.\n",
      "  self._warn_if_super_not_called()\n"
     ]
    },
    {
     "name": "stdout",
     "output_type": "stream",
     "text": [
      "Epoch 1/25\n",
      "\u001b[1m61/61\u001b[0m \u001b[32m━━━━━━━━━━━━━━━━━━━━\u001b[0m\u001b[37m\u001b[0m \u001b[1m28s\u001b[0m 341ms/step - accuracy: 0.6264 - loss: 0.6563 - val_accuracy: 0.7405 - val_loss: 0.5411\n",
      "Epoch 2/25\n",
      "\u001b[1m61/61\u001b[0m \u001b[32m━━━━━━━━━━━━━━━━━━━━\u001b[0m\u001b[37m\u001b[0m \u001b[1m13s\u001b[0m 203ms/step - accuracy: 0.7669 - loss: 0.5095 - val_accuracy: 0.7652 - val_loss: 0.4997\n",
      "Epoch 3/25\n",
      "\u001b[1m61/61\u001b[0m \u001b[32m━━━━━━━━━━━━━━━━━━━━\u001b[0m\u001b[37m\u001b[0m \u001b[1m21s\u001b[0m 211ms/step - accuracy: 0.7872 - loss: 0.4724 - val_accuracy: 0.7673 - val_loss: 0.5015\n",
      "Epoch 4/25\n",
      "\u001b[1m61/61\u001b[0m \u001b[32m━━━━━━━━━━━━━━━━━━━━\u001b[0m\u001b[37m\u001b[0m \u001b[1m14s\u001b[0m 230ms/step - accuracy: 0.8160 - loss: 0.4299 - val_accuracy: 0.7724 - val_loss: 0.4945\n",
      "Epoch 5/25\n",
      "\u001b[1m61/61\u001b[0m \u001b[32m━━━━━━━━━━━━━━━━━━━━\u001b[0m\u001b[37m\u001b[0m \u001b[1m11s\u001b[0m 182ms/step - accuracy: 0.8171 - loss: 0.4234 - val_accuracy: 0.7889 - val_loss: 0.4745\n",
      "Epoch 6/25\n",
      "\u001b[1m61/61\u001b[0m \u001b[32m━━━━━━━━━━━━━━━━━━━━\u001b[0m\u001b[37m\u001b[0m \u001b[1m13s\u001b[0m 211ms/step - accuracy: 0.8404 - loss: 0.3814 - val_accuracy: 0.7806 - val_loss: 0.4804\n",
      "Epoch 7/25\n",
      "\u001b[1m61/61\u001b[0m \u001b[32m━━━━━━━━━━━━━━━━━━━━\u001b[0m\u001b[37m\u001b[0m \u001b[1m14s\u001b[0m 220ms/step - accuracy: 0.8361 - loss: 0.3893 - val_accuracy: 0.7951 - val_loss: 0.4708\n",
      "Epoch 8/25\n",
      "\u001b[1m61/61\u001b[0m \u001b[32m━━━━━━━━━━━━━━━━━━━━\u001b[0m\u001b[37m\u001b[0m \u001b[1m13s\u001b[0m 204ms/step - accuracy: 0.8584 - loss: 0.3565 - val_accuracy: 0.7930 - val_loss: 0.4716\n",
      "Epoch 9/25\n",
      "\u001b[1m61/61\u001b[0m \u001b[32m━━━━━━━━━━━━━━━━━━━━\u001b[0m\u001b[37m\u001b[0m \u001b[1m13s\u001b[0m 207ms/step - accuracy: 0.8522 - loss: 0.3501 - val_accuracy: 0.7868 - val_loss: 0.4775\n",
      "Epoch 10/25\n",
      "\u001b[1m61/61\u001b[0m \u001b[32m━━━━━━━━━━━━━━━━━━━━\u001b[0m\u001b[37m\u001b[0m \u001b[1m14s\u001b[0m 220ms/step - accuracy: 0.8640 - loss: 0.3385 - val_accuracy: 0.7961 - val_loss: 0.4687\n",
      "Epoch 11/25\n",
      "\u001b[1m61/61\u001b[0m \u001b[32m━━━━━━━━━━━━━━━━━━━━\u001b[0m\u001b[37m\u001b[0m \u001b[1m12s\u001b[0m 192ms/step - accuracy: 0.8727 - loss: 0.3207 - val_accuracy: 0.7878 - val_loss: 0.4688\n",
      "Epoch 12/25\n",
      "\u001b[1m61/61\u001b[0m \u001b[32m━━━━━━━━━━━━━━━━━━━━\u001b[0m\u001b[37m\u001b[0m \u001b[1m14s\u001b[0m 227ms/step - accuracy: 0.8705 - loss: 0.3126 - val_accuracy: 0.8054 - val_loss: 0.4734\n",
      "Epoch 13/25\n",
      "\u001b[1m61/61\u001b[0m \u001b[32m━━━━━━━━━━━━━━━━━━━━\u001b[0m\u001b[37m\u001b[0m \u001b[1m11s\u001b[0m 176ms/step - accuracy: 0.8869 - loss: 0.2994 - val_accuracy: 0.7858 - val_loss: 0.4869\n"
     ]
    },
    {
     "name": "stderr",
     "output_type": "stream",
     "text": [
      "WARNING:absl:You are saving your model as an HDF5 file via `model.save()` or `keras.saving.save_model(model)`. This file format is considered legacy. We recommend using instead the native Keras format, e.g. `model.save('my_model.keras')` or `keras.saving.save_model(model, 'my_model.keras')`. \n"
     ]
    },
    {
     "name": "stdout",
     "output_type": "stream",
     "text": [
      "Elbow Results:\n",
      "[0.5015533566474915, 0.7777777910232544]\n",
      "Test Accuracy: 77.78%\n",
      "Found 4322 validated image filenames belonging to 2 classes.\n",
      "Found 1080 validated image filenames belonging to 2 classes.\n",
      "Found 601 validated image filenames belonging to 2 classes.\n",
      "-------Training Hand-------\n"
     ]
    },
    {
     "name": "stderr",
     "output_type": "stream",
     "text": [
      "/home/arnav/anaconda3/envs/tf/lib/python3.12/site-packages/keras/src/trainers/data_adapters/py_dataset_adapter.py:121: UserWarning: Your `PyDataset` class should call `super().__init__(**kwargs)` in its constructor. `**kwargs` can include `workers`, `use_multiprocessing`, `max_queue_size`. Do not pass these arguments to `fit()`, as they will be ignored.\n",
      "  self._warn_if_super_not_called()\n"
     ]
    },
    {
     "name": "stdout",
     "output_type": "stream",
     "text": [
      "Epoch 1/25\n",
      "\u001b[1m15/68\u001b[0m \u001b[32m━━━━\u001b[0m\u001b[37m━━━━━━━━━━━━━━━━\u001b[0m \u001b[1m11s\u001b[0m 208ms/step - accuracy: 0.7272 - loss: 0.6089"
     ]
    },
    {
     "name": "stderr",
     "output_type": "stream",
     "text": [
      "2024-11-12 14:38:48.123768: I external/local_xla/xla/stream_executor/cuda/cuda_asm_compiler.cc:393] ptxas warning : Registers are spilled to local memory in function 'gemm_fusion_dot_5712', 176 bytes spill stores, 176 bytes spill loads\n",
      "\n",
      "2024-11-12 14:38:48.161481: I external/local_xla/xla/stream_executor/cuda/cuda_asm_compiler.cc:393] ptxas warning : Registers are spilled to local memory in function 'gemm_fusion_dot_5712', 16 bytes spill stores, 16 bytes spill loads\n",
      "\n",
      "2024-11-12 14:38:48.500449: I external/local_xla/xla/stream_executor/cuda/cuda_asm_compiler.cc:393] ptxas warning : Registers are spilled to local memory in function 'gemm_fusion_dot_5937', 428 bytes spill stores, 428 bytes spill loads\n",
      "\n",
      "2024-11-12 14:38:48.969645: I external/local_xla/xla/stream_executor/cuda/cuda_asm_compiler.cc:393] ptxas warning : Registers are spilled to local memory in function 'gemm_fusion_dot_5937', 436 bytes spill stores, 436 bytes spill loads\n",
      "\n"
     ]
    },
    {
     "name": "stdout",
     "output_type": "stream",
     "text": [
      "\u001b[1m68/68\u001b[0m \u001b[32m━━━━━━━━━━━━━━━━━━━━\u001b[0m\u001b[37m\u001b[0m \u001b[1m0s\u001b[0m 312ms/step - accuracy: 0.7151 - loss: 0.6003"
     ]
    },
    {
     "name": "stderr",
     "output_type": "stream",
     "text": [
      "2024-11-12 14:39:11.335919: I external/local_xla/xla/stream_executor/cuda/cuda_asm_compiler.cc:393] ptxas warning : Registers are spilled to local memory in function 'gemm_fusion_dot_1712', 16 bytes spill stores, 16 bytes spill loads\n",
      "\n",
      "2024-11-12 14:39:11.421074: I external/local_xla/xla/stream_executor/cuda/cuda_asm_compiler.cc:393] ptxas warning : Registers are spilled to local memory in function 'gemm_fusion_dot_1712', 176 bytes spill stores, 176 bytes spill loads\n",
      "\n"
     ]
    },
    {
     "name": "stdout",
     "output_type": "stream",
     "text": [
      "\u001b[1m68/68\u001b[0m \u001b[32m━━━━━━━━━━━━━━━━━━━━\u001b[0m\u001b[37m\u001b[0m \u001b[1m42s\u001b[0m 532ms/step - accuracy: 0.7151 - loss: 0.6001 - val_accuracy: 0.7407 - val_loss: 0.5571\n",
      "Epoch 2/25\n",
      "\u001b[1m68/68\u001b[0m \u001b[32m━━━━━━━━━━━━━━━━━━━━\u001b[0m\u001b[37m\u001b[0m \u001b[1m15s\u001b[0m 222ms/step - accuracy: 0.7395 - loss: 0.5338 - val_accuracy: 0.7463 - val_loss: 0.5317\n",
      "Epoch 3/25\n",
      "\u001b[1m68/68\u001b[0m \u001b[32m━━━━━━━━━━━━━━━━━━━━\u001b[0m\u001b[37m\u001b[0m \u001b[1m17s\u001b[0m 251ms/step - accuracy: 0.7764 - loss: 0.4987 - val_accuracy: 0.7593 - val_loss: 0.5137\n",
      "Epoch 4/25\n",
      "\u001b[1m68/68\u001b[0m \u001b[32m━━━━━━━━━━━━━━━━━━━━\u001b[0m\u001b[37m\u001b[0m \u001b[1m13s\u001b[0m 193ms/step - accuracy: 0.7672 - loss: 0.4916 - val_accuracy: 0.7722 - val_loss: 0.5186\n",
      "Epoch 5/25\n",
      "\u001b[1m68/68\u001b[0m \u001b[32m━━━━━━━━━━━━━━━━━━━━\u001b[0m\u001b[37m\u001b[0m \u001b[1m14s\u001b[0m 207ms/step - accuracy: 0.7892 - loss: 0.4719 - val_accuracy: 0.7759 - val_loss: 0.5082\n",
      "Epoch 6/25\n",
      "\u001b[1m68/68\u001b[0m \u001b[32m━━━━━━━━━━━━━━━━━━━━\u001b[0m\u001b[37m\u001b[0m \u001b[1m15s\u001b[0m 215ms/step - accuracy: 0.8116 - loss: 0.4279 - val_accuracy: 0.7796 - val_loss: 0.5010\n",
      "Epoch 7/25\n",
      "\u001b[1m68/68\u001b[0m \u001b[32m━━━━━━━━━━━━━━━━━━━━\u001b[0m\u001b[37m\u001b[0m \u001b[1m14s\u001b[0m 199ms/step - accuracy: 0.8133 - loss: 0.4277 - val_accuracy: 0.7704 - val_loss: 0.5049\n",
      "Epoch 8/25\n",
      "\u001b[1m68/68\u001b[0m \u001b[32m━━━━━━━━━━━━━━━━━━━━\u001b[0m\u001b[37m\u001b[0m \u001b[1m13s\u001b[0m 185ms/step - accuracy: 0.8176 - loss: 0.4259 - val_accuracy: 0.7722 - val_loss: 0.5254\n",
      "Epoch 9/25\n",
      "\u001b[1m68/68\u001b[0m \u001b[32m━━━━━━━━━━━━━━━━━━━━\u001b[0m\u001b[37m\u001b[0m \u001b[1m15s\u001b[0m 212ms/step - accuracy: 0.8143 - loss: 0.4191 - val_accuracy: 0.7833 - val_loss: 0.4964\n",
      "Epoch 10/25\n",
      "\u001b[1m68/68\u001b[0m \u001b[32m━━━━━━━━━━━━━━━━━━━━\u001b[0m\u001b[37m\u001b[0m \u001b[1m14s\u001b[0m 199ms/step - accuracy: 0.8301 - loss: 0.3938 - val_accuracy: 0.7824 - val_loss: 0.4967\n",
      "Epoch 11/25\n",
      "\u001b[1m68/68\u001b[0m \u001b[32m━━━━━━━━━━━━━━━━━━━━\u001b[0m\u001b[37m\u001b[0m \u001b[1m14s\u001b[0m 202ms/step - accuracy: 0.8398 - loss: 0.3835 - val_accuracy: 0.8000 - val_loss: 0.4814\n",
      "Epoch 12/25\n",
      "\u001b[1m68/68\u001b[0m \u001b[32m━━━━━━━━━━━━━━━━━━━━\u001b[0m\u001b[37m\u001b[0m \u001b[1m12s\u001b[0m 181ms/step - accuracy: 0.8418 - loss: 0.3812 - val_accuracy: 0.7759 - val_loss: 0.4941\n",
      "Epoch 13/25\n",
      "\u001b[1m68/68\u001b[0m \u001b[32m━━━━━━━━━━━━━━━━━━━━\u001b[0m\u001b[37m\u001b[0m \u001b[1m14s\u001b[0m 197ms/step - accuracy: 0.8415 - loss: 0.3791 - val_accuracy: 0.7870 - val_loss: 0.5155\n",
      "Epoch 14/25\n",
      "\u001b[1m68/68\u001b[0m \u001b[32m━━━━━━━━━━━━━━━━━━━━\u001b[0m\u001b[37m\u001b[0m \u001b[1m14s\u001b[0m 202ms/step - accuracy: 0.8478 - loss: 0.3686 - val_accuracy: 0.7852 - val_loss: 0.4875\n"
     ]
    },
    {
     "name": "stderr",
     "output_type": "stream",
     "text": [
      "WARNING:absl:You are saving your model as an HDF5 file via `model.save()` or `keras.saving.save_model(model)`. This file format is considered legacy. We recommend using instead the native Keras format, e.g. `model.save('my_model.keras')` or `keras.saving.save_model(model, 'my_model.keras')`. \n",
      "2024-11-12 14:42:28.625100: I external/local_xla/xla/stream_executor/cuda/cuda_asm_compiler.cc:393] ptxas warning : Registers are spilled to local memory in function 'gemm_fusion_dot_1712', 176 bytes spill stores, 176 bytes spill loads\n",
      "\n",
      "2024-11-12 14:42:28.722443: I external/local_xla/xla/stream_executor/cuda/cuda_asm_compiler.cc:393] ptxas warning : Registers are spilled to local memory in function 'gemm_fusion_dot_1712', 28 bytes spill stores, 28 bytes spill loads\n",
      "\n"
     ]
    },
    {
     "name": "stdout",
     "output_type": "stream",
     "text": [
      "Hand Results:\n",
      "[0.501086950302124, 0.7703827023506165]\n",
      "Test Accuracy: 77.04%\n",
      "Found 6434 validated image filenames belonging to 2 classes.\n",
      "Found 1608 validated image filenames belonging to 2 classes.\n",
      "Found 894 validated image filenames belonging to 2 classes.\n",
      "-------Training Shoulder-------\n"
     ]
    },
    {
     "name": "stderr",
     "output_type": "stream",
     "text": [
      "/home/arnav/anaconda3/envs/tf/lib/python3.12/site-packages/keras/src/trainers/data_adapters/py_dataset_adapter.py:121: UserWarning: Your `PyDataset` class should call `super().__init__(**kwargs)` in its constructor. `**kwargs` can include `workers`, `use_multiprocessing`, `max_queue_size`. Do not pass these arguments to `fit()`, as they will be ignored.\n",
      "  self._warn_if_super_not_called()\n"
     ]
    },
    {
     "name": "stdout",
     "output_type": "stream",
     "text": [
      "Epoch 1/25\n",
      "\u001b[1m101/101\u001b[0m \u001b[32m━━━━━━━━━━━━━━━━━━━━\u001b[0m\u001b[37m\u001b[0m \u001b[1m38s\u001b[0m 318ms/step - accuracy: 0.6098 - loss: 0.6538 - val_accuracy: 0.7040 - val_loss: 0.5753\n",
      "Epoch 2/25\n",
      "\u001b[1m101/101\u001b[0m \u001b[32m━━━━━━━━━━━━━━━━━━━━\u001b[0m\u001b[37m\u001b[0m \u001b[1m27s\u001b[0m 264ms/step - accuracy: 0.7140 - loss: 0.5689 - val_accuracy: 0.7251 - val_loss: 0.5528\n",
      "Epoch 3/25\n",
      "\u001b[1m101/101\u001b[0m \u001b[32m━━━━━━━━━━━━━━━━━━━━\u001b[0m\u001b[37m\u001b[0m \u001b[1m24s\u001b[0m 240ms/step - accuracy: 0.7358 - loss: 0.5324 - val_accuracy: 0.7264 - val_loss: 0.5446\n",
      "Epoch 4/25\n",
      "\u001b[1m101/101\u001b[0m \u001b[32m━━━━━━━━━━━━━━━━━━━━\u001b[0m\u001b[37m\u001b[0m \u001b[1m26s\u001b[0m 251ms/step - accuracy: 0.7629 - loss: 0.5034 - val_accuracy: 0.7481 - val_loss: 0.5204\n",
      "Epoch 5/25\n",
      "\u001b[1m101/101\u001b[0m \u001b[32m━━━━━━━━━━━━━━━━━━━━\u001b[0m\u001b[37m\u001b[0m \u001b[1m24s\u001b[0m 241ms/step - accuracy: 0.7661 - loss: 0.4973 - val_accuracy: 0.7512 - val_loss: 0.5139\n",
      "Epoch 6/25\n",
      "\u001b[1m101/101\u001b[0m \u001b[32m━━━━━━━━━━━━━━━━━━━━\u001b[0m\u001b[37m\u001b[0m \u001b[1m23s\u001b[0m 226ms/step - accuracy: 0.7834 - loss: 0.4721 - val_accuracy: 0.7525 - val_loss: 0.5163\n",
      "Epoch 7/25\n",
      "\u001b[1m101/101\u001b[0m \u001b[32m━━━━━━━━━━━━━━━━━━━━\u001b[0m\u001b[37m\u001b[0m \u001b[1m25s\u001b[0m 248ms/step - accuracy: 0.7905 - loss: 0.4592 - val_accuracy: 0.7469 - val_loss: 0.5157\n",
      "Epoch 8/25\n",
      "\u001b[1m101/101\u001b[0m \u001b[32m━━━━━━━━━━━━━━━━━━━━\u001b[0m\u001b[37m\u001b[0m \u001b[1m25s\u001b[0m 247ms/step - accuracy: 0.7930 - loss: 0.4510 - val_accuracy: 0.7655 - val_loss: 0.5060\n",
      "Epoch 9/25\n",
      "\u001b[1m101/101\u001b[0m \u001b[32m━━━━━━━━━━━━━━━━━━━━\u001b[0m\u001b[37m\u001b[0m \u001b[1m25s\u001b[0m 248ms/step - accuracy: 0.8061 - loss: 0.4288 - val_accuracy: 0.7587 - val_loss: 0.5053\n",
      "Epoch 10/25\n",
      "\u001b[1m101/101\u001b[0m \u001b[32m━━━━━━━━━━━━━━━━━━━━\u001b[0m\u001b[37m\u001b[0m \u001b[1m28s\u001b[0m 278ms/step - accuracy: 0.8123 - loss: 0.4205 - val_accuracy: 0.7382 - val_loss: 0.5382\n",
      "Epoch 11/25\n",
      "\u001b[1m101/101\u001b[0m \u001b[32m━━━━━━━━━━━━━━━━━━━━\u001b[0m\u001b[37m\u001b[0m \u001b[1m29s\u001b[0m 282ms/step - accuracy: 0.8117 - loss: 0.4139 - val_accuracy: 0.7699 - val_loss: 0.4922\n",
      "Epoch 12/25\n",
      "\u001b[1m101/101\u001b[0m \u001b[32m━━━━━━━━━━━━━━━━━━━━\u001b[0m\u001b[37m\u001b[0m \u001b[1m26s\u001b[0m 257ms/step - accuracy: 0.8263 - loss: 0.3964 - val_accuracy: 0.7668 - val_loss: 0.4966\n",
      "Epoch 13/25\n",
      "\u001b[1m101/101\u001b[0m \u001b[32m━━━━━━━━━━━━━━━━━━━━\u001b[0m\u001b[37m\u001b[0m \u001b[1m27s\u001b[0m 267ms/step - accuracy: 0.8324 - loss: 0.3876 - val_accuracy: 0.7581 - val_loss: 0.5101\n",
      "Epoch 14/25\n",
      "\u001b[1m101/101\u001b[0m \u001b[32m━━━━━━━━━━━━━━━━━━━━\u001b[0m\u001b[37m\u001b[0m \u001b[1m29s\u001b[0m 287ms/step - accuracy: 0.8397 - loss: 0.3714 - val_accuracy: 0.7600 - val_loss: 0.5029\n"
     ]
    },
    {
     "name": "stderr",
     "output_type": "stream",
     "text": [
      "WARNING:absl:You are saving your model as an HDF5 file via `model.save()` or `keras.saving.save_model(model)`. This file format is considered legacy. We recommend using instead the native Keras format, e.g. `model.save('my_model.keras')` or `keras.saving.save_model(model, 'my_model.keras')`. \n",
      "2024-11-12 14:49:00.405762: I external/local_xla/xla/stream_executor/cuda/cuda_asm_compiler.cc:393] ptxas warning : Registers are spilled to local memory in function 'gemm_fusion_dot_1712', 28 bytes spill stores, 28 bytes spill loads\n",
      "\n",
      "2024-11-12 14:49:00.561392: I external/local_xla/xla/stream_executor/cuda/cuda_asm_compiler.cc:393] ptxas warning : Registers are spilled to local memory in function 'gemm_fusion_dot_1712', 176 bytes spill stores, 176 bytes spill loads\n",
      "\n"
     ]
    },
    {
     "name": "stdout",
     "output_type": "stream",
     "text": [
      "Shoulder Results:\n",
      "[0.49960067868232727, 0.7751677632331848]\n",
      "Test Accuracy: 77.52%\n"
     ]
    },
    {
     "data": {
      "text/plain": [
       "<Figure size 640x480 with 0 Axes>"
      ]
     },
     "metadata": {},
     "output_type": "display_data"
    }
   ],
   "source": [
    "# Run the function for each body part\n",
    "categories_parts = [\"Elbow\", \"Hand\", \"Shoulder\"]\n",
    "for category in categories_parts:\n",
    "    trainPart(category)"
   ]
  },
  {
   "cell_type": "code",
   "execution_count": null,
   "metadata": {},
   "outputs": [],
   "source": []
  }
 ],
 "metadata": {
  "kernelspec": {
   "display_name": "tf",
   "language": "python",
   "name": "python3"
  },
  "language_info": {
   "codemirror_mode": {
    "name": "ipython",
    "version": 3
   },
   "file_extension": ".py",
   "mimetype": "text/x-python",
   "name": "python",
   "nbconvert_exporter": "python",
   "pygments_lexer": "ipython3",
   "version": "3.12.7"
  }
 },
 "nbformat": 4,
 "nbformat_minor": 2
}
